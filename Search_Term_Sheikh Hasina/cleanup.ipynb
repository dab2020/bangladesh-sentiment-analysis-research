{
 "cells": [
  {
   "cell_type": "code",
   "execution_count": 11,
   "id": "448b59e0-86e8-477f-abc5-1317f29c0d0e",
   "metadata": {},
   "outputs": [
    {
     "name": "stdout",
     "output_type": "stream",
     "text": [
      "Reading Raw\\Week 1.csv\n",
      "Reading Raw\\Week 10.csv\n",
      "Reading Raw\\Week 11.csv\n",
      "Reading Raw\\Week 12.csv\n",
      "Reading Raw\\Week 13.csv\n",
      "Reading Raw\\Week 14.csv\n",
      "Reading Raw\\Week 15.csv\n",
      "Reading Raw\\Week 16.csv\n",
      "Reading Raw\\Week 17.csv\n",
      "Reading Raw\\Week 18.csv\n",
      "Reading Raw\\Week 19.csv\n",
      "Reading Raw\\Week 2.csv\n",
      "Reading Raw\\Week 20.csv\n",
      "Reading Raw\\Week 21.csv\n",
      "Reading Raw\\Week 22.csv\n",
      "Reading Raw\\Week 23.csv\n",
      "Reading Raw\\Week 24.csv\n",
      "Reading Raw\\Week 25.csv\n",
      "Reading Raw\\Week 26.csv\n",
      "Reading Raw\\Week 27.csv\n",
      "Reading Raw\\Week 28.csv\n",
      "Reading Raw\\Week 29.csv\n",
      "Reading Raw\\Week 3.csv\n",
      "Reading Raw\\Week 30.csv\n",
      "Reading Raw\\Week 31.csv\n",
      "Reading Raw\\Week 32.csv\n",
      "Reading Raw\\Week 33.csv\n",
      "Reading Raw\\Week 34.csv\n",
      "Reading Raw\\Week 35.csv\n",
      "Reading Raw\\Week 4.csv\n",
      "Reading Raw\\Week 5.csv\n",
      "Reading Raw\\Week 6.csv\n",
      "Reading Raw\\Week 7.csv\n",
      "Reading Raw\\Week 8.csv\n",
      "Reading Raw\\Week 9.csv\n",
      "Merged CSV saved as merged_output_with_filenames.csv\n"
     ]
    }
   ],
   "source": [
    "import pandas as pd\n",
    "import os\n",
    "\n",
    "def merge_csv_files(input_folder, output_file):\n",
    "    # List to store DataFrames\n",
    "    csv_list = []\n",
    "\n",
    "    # Iterate over all files in the input folder\n",
    "    for file_name in os.listdir(input_folder):\n",
    "        if file_name.endswith('.csv'):\n",
    "            file_path = os.path.join(input_folder, file_name)\n",
    "            print(f\"Reading {file_path}\")\n",
    "            \n",
    "            # Read each CSV file into a DataFrame\n",
    "            df = pd.read_csv(file_path)\n",
    "            \n",
    "            # Add a new column with the file name\n",
    "            df['Source_File'] = file_name\n",
    "            \n",
    "            # Append the DataFrame to the list\n",
    "            csv_list.append(df)\n",
    "\n",
    "    # Concatenate all DataFrames in the list\n",
    "    merged_df = pd.concat(csv_list, ignore_index=True)\n",
    "    \n",
    "    # Save the merged DataFrame to the output file\n",
    "    merged_df.to_csv(output_file, index=False)\n",
    "    print(f\"Merged CSV saved as {output_file}\")\n",
    "\n",
    "# Example usage\n",
    "input_folder = 'Raw'  # Specify your folder containing the CSV files\n",
    "output_file = 'merged_output_with_filenames.csv'  # Specify the output CSV file name\n",
    "merge_csv_files(input_folder, output_file)\n"
   ]
  },
  {
   "cell_type": "code",
   "execution_count": null,
   "id": "4d6ce437-6d6e-4364-880d-0ac3097f7941",
   "metadata": {},
   "outputs": [],
   "source": []
  }
 ],
 "metadata": {
  "kernelspec": {
   "display_name": "Python 3 (ipykernel)",
   "language": "python",
   "name": "python3"
  },
  "language_info": {
   "codemirror_mode": {
    "name": "ipython",
    "version": 3
   },
   "file_extension": ".py",
   "mimetype": "text/x-python",
   "name": "python",
   "nbconvert_exporter": "python",
   "pygments_lexer": "ipython3",
   "version": "3.12.4"
  }
 },
 "nbformat": 4,
 "nbformat_minor": 5
}
