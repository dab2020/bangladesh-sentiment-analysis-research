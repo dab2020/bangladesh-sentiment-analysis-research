{
 "cells": [
  {
   "cell_type": "code",
   "execution_count": 10,
   "id": "448b59e0-86e8-477f-abc5-1317f29c0d0e",
   "metadata": {},
   "outputs": [
    {
     "name": "stdout",
     "output_type": "stream",
     "text": [
      "No CSV files were found or processed.\n"
     ]
    }
   ],
   "source": [
    "import pandas as pd\n",
    "import glob\n",
    "import os\n",
    "\n",
    "# Define the path to the folder containing the CSV files\n",
    "folder_path = \"path_to_your_csv_files\"\n",
    "\n",
    "# Get a list of all CSV files in the folder (assuming filenames contain 'week ')\n",
    "csv_files = glob.glob(os.path.join(folder_path, \"week *.csv\"))\n",
    "\n",
    "# Initialize an empty list to store DataFrames\n",
    "df_list = []\n",
    "\n",
    "# Loop through each CSV file\n",
    "for file in csv_files:\n",
    "    # Extract the week number from the filename (assuming 'week x.csv' format)\n",
    "    week_number = int(os.path.basename(file).split(' ')[1].split('.')[0])\n",
    "    \n",
    "    # Read the CSV file into a DataFrame\n",
    "    df = pd.read_csv(file)\n",
    "    \n",
    "    # Add a new column 'week_number' to the DataFrame\n",
    "    df['week_number'] = week_number\n",
    "    \n",
    "    # Append the DataFrame to the list\n",
    "    df_list.append(df)\n",
    "\n",
    "# Combine all DataFrames into one\n",
    "combined_df = pd.concat(df_list, ignore_index=True)\n",
    "\n",
    "# Save the combined DataFrame to a new CSV file\n",
    "combined_df.to_csv('combined_weekly_data.csv', index=False)\n",
    "\n",
    "print(\"Combined data saved to 'combined_weekly_data.csv'\")\n"
   ]
  },
  {
   "cell_type": "code",
   "execution_count": null,
   "id": "4d6ce437-6d6e-4364-880d-0ac3097f7941",
   "metadata": {},
   "outputs": [],
   "source": []
  }
 ],
 "metadata": {
  "kernelspec": {
   "display_name": "Python 3 (ipykernel)",
   "language": "python",
   "name": "python3"
  },
  "language_info": {
   "codemirror_mode": {
    "name": "ipython",
    "version": 3
   },
   "file_extension": ".py",
   "mimetype": "text/x-python",
   "name": "python",
   "nbconvert_exporter": "python",
   "pygments_lexer": "ipython3",
   "version": "3.12.4"
  }
 },
 "nbformat": 4,
 "nbformat_minor": 5
}
