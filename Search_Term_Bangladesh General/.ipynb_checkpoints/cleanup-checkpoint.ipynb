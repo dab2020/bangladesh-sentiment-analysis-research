{
 "cells": [
  {
   "cell_type": "code",
   "execution_count": 2,
   "id": "448b59e0-86e8-477f-abc5-1317f29c0d0e",
   "metadata": {},
   "outputs": [
    {
     "ename": "FileNotFoundError",
     "evalue": "No files matching the pattern 'week *.csv' were found in the specified folder.",
     "output_type": "error",
     "traceback": [
      "\u001b[1;31m---------------------------------------------------------------------------\u001b[0m",
      "\u001b[1;31mFileNotFoundError\u001b[0m                         Traceback (most recent call last)",
      "Cell \u001b[1;32mIn[2], line 13\u001b[0m\n\u001b[0;32m     11\u001b[0m \u001b[38;5;66;03m# Check if any files were found\u001b[39;00m\n\u001b[0;32m     12\u001b[0m \u001b[38;5;28;01mif\u001b[39;00m \u001b[38;5;129;01mnot\u001b[39;00m csv_files:\n\u001b[1;32m---> 13\u001b[0m     \u001b[38;5;28;01mraise\u001b[39;00m \u001b[38;5;167;01mFileNotFoundError\u001b[39;00m(\u001b[38;5;124m\"\u001b[39m\u001b[38;5;124mNo files matching the pattern \u001b[39m\u001b[38;5;124m'\u001b[39m\u001b[38;5;124mweek *.csv\u001b[39m\u001b[38;5;124m'\u001b[39m\u001b[38;5;124m were found in the specified folder.\u001b[39m\u001b[38;5;124m\"\u001b[39m)\n\u001b[0;32m     15\u001b[0m \u001b[38;5;66;03m# Initialize an empty list to store DataFrames\u001b[39;00m\n\u001b[0;32m     16\u001b[0m df_list \u001b[38;5;241m=\u001b[39m []\n",
      "\u001b[1;31mFileNotFoundError\u001b[0m: No files matching the pattern 'week *.csv' were found in the specified folder."
     ]
    }
   ],
   "source": [
    "import pandas as pd\n",
    "import glob\n",
    "import os\n",
    "\n",
    "# Define the path to the folder containing the CSV files\n",
    "folder_path = \"path_to_your_csv_files\"\n",
    "\n",
    "# Get a list of all CSV files in the folder (assuming filenames contain 'week ')\n",
    "csv_files = glob.glob(os.path.join(folder_path, \"week *.csv\"))\n",
    "\n",
    "# Check if any files were found\n",
    "if not csv_files:\n",
    "    raise FileNotFoundError(\"No files matching the pattern 'week *.csv' were found in the specified folder.\")\n",
    "\n",
    "# Initialize an empty list to store DataFrames\n",
    "df_list = []\n",
    "\n",
    "# Loop through each CSV file\n",
    "for file in csv_files:\n",
    "    # Extract the week number from the filename (assuming 'week x.csv' format)\n",
    "    week_number = int(os.path.basename(file).split(' ')[1].split('.')[0])\n",
    "    \n",
    "    # Read the CSV file into a DataFrame\n",
    "    try:\n",
    "        df = pd.read_csv(file)\n",
    "        # Skip if the CSV file is empty\n",
    "        if df.empty:\n",
    "            print(f\"Skipping empty file: {file}\")\n",
    "            continue\n",
    "        \n",
    "        # Add a new column 'week_number' to the DataFrame\n",
    "        df['week_number'] = week_number\n",
    "        \n",
    "        # Append the DataFrame to the list\n",
    "        df_list.append(df)\n",
    "    \n",
    "    except Exception as e:\n",
    "        print(f\"Error reading {file}: {e}\")\n",
    "        continue\n",
    "\n",
    "# Check if any DataFrames were added to the list\n",
    "if not df_list:\n",
    "    raise ValueError(\"No valid CSV files were processed.\")\n",
    "\n",
    "# Combine all DataFrames into one\n",
    "combined_df = pd.concat(df_list, ignore_index=True)\n",
    "\n",
    "# Save the combined DataFrame to a new CSV file\n",
    "combined_df.to_csv('combined_weekly_data.csv', index=False)\n",
    "\n",
    "print(\"Combined data saved to 'combined_weekly_data.csv'\")\n"
   ]
  },
  {
   "cell_type": "code",
   "execution_count": null,
   "id": "4d6ce437-6d6e-4364-880d-0ac3097f7941",
   "metadata": {},
   "outputs": [],
   "source": []
  }
 ],
 "metadata": {
  "kernelspec": {
   "display_name": "Python 3 (ipykernel)",
   "language": "python",
   "name": "python3"
  },
  "language_info": {
   "codemirror_mode": {
    "name": "ipython",
    "version": 3
   },
   "file_extension": ".py",
   "mimetype": "text/x-python",
   "name": "python",
   "nbconvert_exporter": "python",
   "pygments_lexer": "ipython3",
   "version": "3.12.4"
  }
 },
 "nbformat": 4,
 "nbformat_minor": 5
}
